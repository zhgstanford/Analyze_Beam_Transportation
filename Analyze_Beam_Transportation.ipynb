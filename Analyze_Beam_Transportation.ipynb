{
 "cells": [
  {
   "cell_type": "markdown",
   "metadata": {},
   "source": [
    "# Analyze The Beam Transportation in the Undulator Line\n",
    "\n",
    "In this file, I plan to analyze the beam tranportation in the undulator line. To be more exactly, I want to analyze the phase space distribution of the bunch when traveling along z. In accelerator physics, we always characterize the electron bunch by the 6D phase space distribution. However, since the energy and the speed in z of one electron doesn't change a lot in the undulator line, we can keep them as constants during the first order approximation. Therefore, given N electrons, we want to consider the $4D \\times N$ array, where each column is:\n",
    "\\begin{pmatrix}\n",
    "x\\\\\n",
    "\\beta_x\\\\\n",
    "y\\\\\n",
    "\\beta_y\n",
    "\\end{pmatrix}\n",
    "Here we assume that $v_z = c$ and define $\\beta_x = v_x/c$, $\\beta_y = v_y/c$. All quantities that has a unit of length should be expressed in meters.\n",
    "\n",
    "In the first order approximation, we need to consider four types of elements. We will analyze them one by one in the following:\n",
    "\n",
    "## Quadrupole\n",
    "\n",
    "We can first assume that a positive K indicates a focusing in X. If this is not correct, you can just analyze it slightly later. Given a positive K value and its length L, the transportation matrix is:\n",
    "\\begin{pmatrix} \n",
    "\\cos(\\sqrt{K}L) & \\frac{1}{\\sqrt{K}}\\sin(\\sqrt{K}L) & 0 & 0 \\\\\n",
    "-\\sqrt{K}\\sin(\\sqrt{K}L) & \\cos(\\sqrt{K}L)  & 0 & 0\\\\\n",
    "0 & 0 & \\cosh(\\sqrt{K}L) & \\frac{1}{\\sqrt{K}}\\sinh(\\sqrt{K}L) \\\\\n",
    "0 & 0 & \\sqrt{K}\\sinh(\\sqrt{K}L) & \\cosh(\\sqrt{K}L)\n",
    "\\end{pmatrix}\n",
    "\n",
    "If the input $K$ is negative, the transportation is:\n",
    "\\begin{pmatrix} \n",
    "\\cosh(\\sqrt{|K|}L) & \\frac{1}{\\sqrt{|K|}}\\sinh(\\sqrt{|K|}L) & 0 & 0\\\\\n",
    "\\sqrt{|K|}\\sinh(\\sqrt{|K|}L) & \\cosh(\\sqrt{|K|}L)  & 0 & 0\\\\\n",
    "0 & 0 & \\cos(\\sqrt{|K|}L) & \\frac{1}{\\sqrt{|K|}}\\sin(\\sqrt{|K|}L) \\\\\n",
    "0 & 0 & -\\sqrt{|K|}\\sin(\\sqrt{|K|}L) & \\cos(\\sqrt{|K|}L)\n",
    "\\end{pmatrix}\n",
    "\n",
    "There is no shift matrix needed in this part.\n",
    "\n",
    "## Drift\n",
    "\n",
    "Drift is easy to be implemented. The transportation matrix is:\n",
    "\\begin{pmatrix} \n",
    "1 & L & 0 & 0 \\\\\n",
    "0 & 1  & 0 & 0\\\\\n",
    "0 & 0 & 1 & L \\\\\n",
    "0 & 0 & 0 & 1\n",
    "\\end{pmatrix}\n",
    "\n",
    "## Orbit Corrector\n",
    "\n",
    "In experiment, the orbit correction is implemented by the bending in the dipole. In order to charactrize an orbit corrector, we need its length $L$ and the angle kicks $cx, cy$ in X and Y. Based in my understanding, angle kicks are defined as $\\Delta \\beta_x$ and $\\Delta \\beta_y$ rather than $\\gamma \\Delta \\beta_x$ or $\\gamma \\Delta \\beta_y$.\n",
    "\n",
    "After passing the orbit corrector, one electron with initial phase space $(x, \\beta_x, y, \\beta_y)$ will go to $(x+(\\beta_x+\\frac{1}{2}cx)L, \\beta_x+cx, y+(\\beta_y+\\frac{1}{2}cy)L, \\beta_y+cy)$. Therefore, expressed in the language of matrix manipulations, the orbit correction can be characterized by a drift together with a shift. The drift matrix is:\n",
    "\\begin{pmatrix} \n",
    "1 & L & 0 & 0 \\\\\n",
    "0 & 1  & 0 & 0\\\\\n",
    "0 & 0 & 1 & L \\\\\n",
    "0 & 0 & 0 & 1\n",
    "\\end{pmatrix}\n",
    "And the shift matrix is:\n",
    "\\begin{pmatrix}\n",
    "\\frac{1}{2}cx \\cdot L \\\\\n",
    "cx \\\\\n",
    "\\frac{1}{2}cy \\cdot L\\\\\n",
    "cy\n",
    "\\end{pmatrix}\n",
    "\n",
    "## Chicane\n",
    "\n",
    "There are two chicanes located in the undulator line. They are used for delaying the electron beam but do not lead to significant beam compression. Indeed, the distance between the 1st and 2nd, 3rd and 4th dipoles are almost 0, which means that $R_{56}$ is almost 0. Given the length $L$ of the chicane, the length $l_b$ of one dipole and the delay $\\Delta l$ in a unit of length, the bending angle $\\theta$ in one dipole is\n",
    "\\begin{equation}\n",
    "\\theta = \\sqrt{\\frac{3\\Delta l}{2 l_b}}, \n",
    "\\end{equation}\n",
    "which is several orders of magnitude larger than the electrons' divergences in X and Y. Therefore, we can just focus on the bending effects of the chicane itself.\n",
    "\n",
    "One subtle thing we need to take into consideration is the wedge focusing effect of the chicane. In the setup of our GENESIS 4 simulation, the bending effect is in the Y-direction. We assume that the magnetic field is uniform in those four dipoles. Based on this assumption, the wedge focusin effect is only in Y-direction. For one dipole with the length $l_b$, the 4-by-4 transformation matrix is:\n",
    "\\begin{pmatrix} \n",
    "1 & l_b & 0 & 0 \\\\\n",
    "0 & 1  & 0 & 0\\\\\n",
    "0 & 0 & \\cos(k_y l_b) & \\frac{1}{k_y}\\sin(k_y l_b) \\\\\n",
    "0 & 0 & -k_y\\sin(k_y l_b) & \\cos(k_y l_b)\n",
    "\\end{pmatrix}\n",
    "Here $k^2_y = (1/\\rho_0)^2$ and $\\rho_0$ is the central bending radius in the dipole. Since $\\rho_0 >> l_b$, we can approximate $k^2_y = (\\theta/l_b)^2$ where $\\theta$ is the bending angle defined in the above. The transformation matrix $M_{\\mathrm{dipole}}$ of the dipole can be modeled as:\n",
    "\\begin{pmatrix} \n",
    "1 & l_b & 0 & 0 \\\\\n",
    "0 & 1  & 0 & 0\\\\\n",
    "0 & 0 & \\cos(\\theta) & \\frac{l_b}{\\theta}\\sin(\\theta) \\\\\n",
    "0 & 0 & -\\frac{\\theta}{l_b}\\sin(\\theta) & \\cos(\\theta)\n",
    "\\end{pmatrix}\n",
    "\n",
    "There are totally four dipoles together with one drift in the chicane. Suppose that the chicane has the total length $L$. The drift length between the 2nd and the 3rd dipole is $L-4l_b$. The drift matrix $M_{\\mathrm{drift}}$ is:\n",
    "\\begin{pmatrix} \n",
    "1 & L-4l_b & 0 & 0 \\\\\n",
    "0 & 1  & 0 & 0\\\\\n",
    "0 & 0 & 1 & L-4l_b \\\\\n",
    "0 & 0 & 0 & 1\n",
    "\\end{pmatrix}\n",
    "\n",
    "The transformation matrix for the whole chicane is $M^2_{\\mathrm{dipole}} \\times M_{\\mathrm{drift}} \\times M^2_{\\mathrm{dipole}}$.\n",
    "\n",
    "\n",
    "\n",
    "## Short Summary\n",
    "\n",
    "Therefore, we need to build four Python classes. Let's do it in the next section."
   ]
  },
  {
   "cell_type": "code",
   "execution_count": 1,
   "metadata": {},
   "outputs": [],
   "source": [
    "import h5py\n",
    "import matplotlib.pyplot as plt\n",
    "import numpy as np\n",
    "from scipy import constants"
   ]
  },
  {
   "cell_type": "code",
   "execution_count": 11,
   "metadata": {},
   "outputs": [],
   "source": [
    "class Quadrupole:\n",
    "    def __init__(self, L, K):\n",
    "        self.length = L\n",
    "        self.focusing = K\n",
    "        if K > 0:\n",
    "            self.M1 = [[np.cos(np.sqrt(K)*L), 1/np.sqrt(K)*np.sin(np.sqrt(K)*L), 0, 0],\n",
    "                       [-np.sqrt(K)*np.sin(np.sqrt(K)*L), np.cos(np.sqrt(K)*L), 0, 0],\n",
    "                       [0, 0, np.cosh(np.sqrt(K)*L), 1/np.sqrt(K)*np.sinh(np.sqrt(K)*L)],\n",
    "                       [0, 0, np.sqrt(K)*np.sinh(np.sqrt(K)*L), np.cosh(np.sqrt(K)*L)]]\n",
    "        else:\n",
    "            K = np.abs(K)\n",
    "            self.M1 = [[np.cosh(np.sqrt(K)*L), 1/np.sqrt(K)*np.sinh(np.sqrt(K)*L), 0, 0],\n",
    "                       [np.sqrt(K)*np.sinh(np.sqrt(K)*L), np.cosh(np.sqrt(K)*L),   0, 0],\n",
    "                       [0 , 0 , np.cos(np.sqrt(K)*L), 1/np.sqrt(K)*np.sin(np.sqrt(K)*L)],\n",
    "                       [0 , 0 , -np.sqrt(K)*np.sin(np.sqrt(K)*L), np.cos(np.sqrt(K)*L)]]\n",
    "        \n",
    "        self.M2 = [[0],\n",
    "                   [0],\n",
    "                   [0],\n",
    "                   [0]]\n",
    "\n",
    "class Drift:\n",
    "    def __init__(self, L):\n",
    "        self.length = L\n",
    "        self.M1 = [[1, L, 0, 0],\n",
    "                   [0, 1, 0, 0],\n",
    "                   [0, 0, 1, L],\n",
    "                   [0, 0, 0, 1]]\n",
    "        self.M2 = [[0],\n",
    "                   [0],\n",
    "                   [0],\n",
    "                   [0]]\n",
    "\n",
    "class Orbit_Corrector:\n",
    "    def __init__(self, L, cx, cy):\n",
    "        self.length = L\n",
    "        self.kick_x = cx\n",
    "        self.lick_y = cy\n",
    "        self.M1 = [[1, L, 0, 0],\n",
    "                   [0, 1, 0, 0],\n",
    "                   [0, 0, 1, L],\n",
    "                   [0, 0, 0, 1]]\n",
    "        self.M2 = [[0.5*cx*L],\n",
    "                   [cx],\n",
    "                   [0.5*cy*L],\n",
    "                   [cy]]\n",
    "        \n",
    "class Chicane:\n",
    "    def __init__(self, L, lb, ld, delay):\n",
    "        self.length = L\n",
    "        self.length_dipole = lb\n",
    "        self.length_drift_dipole = ld\n",
    "        self.length_delay = delay\n",
    "        \n",
    "        theta = np.sqrt(3*delay/(2*lb))\n",
    "        M_dipole = [[1, lb, 0, 0],\n",
    "                   [0, 1, 0, 0],\n",
    "                   [0, 0, np.cos(theta), (lb/theta)*np.sin(theta)],\n",
    "                   [0, 0, -(theta/lb)*np.sin(theta), np.cos(theta)]]\n",
    "        M_drift = [[1, L-4*lb, 0, 0],\n",
    "                   [0, 1, 0, 0],\n",
    "                   [0, 0, 1, L-4*lb],\n",
    "                   [0, 0, 0, 1]]\n",
    "        \n",
    "        self.M1 = np.linalg.multi_dot([M_dipole, M_dipole, M_drift, M_dipole, M_dipole])\n",
    "        self.M2 = [[0],\n",
    "                   [0],\n",
    "                   [0],\n",
    "                   [0]]\n"
   ]
  },
  {
   "cell_type": "code",
   "execution_count": 12,
   "metadata": {},
   "outputs": [],
   "source": [
    "def beam_transportation(init_phase_spc, undulator_line):\n",
    "    \"\"\"Input:\n",
    "    init_phase_space: A 4-by-N array, which is the 4D phase space of the bunch. N\n",
    "    is the number of macroparticles in the bunch.\n",
    "    undulator_line: A list which contains components defined in the previous section.\"\"\"\n",
    "    \n",
    "    phase_spc = init_phase_spc\n",
    "    \n",
    "    for element in undulator_line:\n",
    "        phase_space = np.dot( element.M1, phase_spc ) +element.M2\n",
    "    \n",
    "    return phase_space"
   ]
  },
  {
   "cell_type": "markdown",
   "metadata": {},
   "source": [
    "## Analyze twiss parameters of the bunch\n",
    "\n",
    "We need to find some ways to charactrize the quanlity of the bunch. The geometric emittance is defined as:\n",
    "\\begin{equation}\n",
    "\\epsilon_x = \\sqrt{\\langle x^2 \\rangle \\langle x^{\\prime 2} \\rangle - \\langle x x^{\\prime}\\rangle^2} .\n",
    "\\end{equation}\n",
    "The Courant-Synder or twiss parameters are defined as \n",
    "\\begin{equation}\n",
    "\\beta_x = \\frac{\\langle x^2 \\rangle}{\\epsilon_x} ,\n",
    "\\end{equation}\n",
    "\\begin{equation}\n",
    "\\gamma_x = \\frac{\\langle {x^{\\prime}}^2 \\rangle}{\\epsilon_x} ,\n",
    "\\end{equation}\n",
    "\\begin{equation}\n",
    "\\alpha_x = -\\frac{\\langle x x^{\\prime} \\rangle}{\\epsilon_x}.\n",
    "\\end{equation}\n",
    "We can also define a set of twiss parameters to characterize the beam distribution in Y in the same way. In the following, we keep using the same 4D phase space distribution:\n",
    "\\begin{pmatrix}\n",
    "x\\\\\n",
    "\\beta_x\\\\\n",
    "y\\\\\n",
    "\\beta_y\n",
    "\\end{pmatrix}\n"
   ]
  },
  {
   "cell_type": "code",
   "execution_count": 13,
   "metadata": {},
   "outputs": [],
   "source": [
    "def emittance_and_twiss(ps_4D):\n",
    "    \"\"\"Input:\n",
    "    ps_4D: A 4-by-N array, which is the 4D phase space of the bunch. N\n",
    "    is the number of macroparticles in the bunch.\n",
    "    Output:\n",
    "    alpha_x, beta_x, gamma_x, emittance_x, alpha_y, beta_y, gamma_y, emittance_y:\n",
    "    All are real numbers.\n",
    "    \"\"\"\n",
    "    x = ps_4D[0,:]\n",
    "    xp = ps_4D[1,:]\n",
    "    y = ps_4D[2,:]\n",
    "    yp = ps_4D[3,:]\n",
    "    \n",
    "    emittance_x = np.sqrt(np.average(x**2)*np.average(xp**2)-np.average(np.multiply(x, xp))**2)\n",
    "    alpha_x = -np.average(np.multiply(x, xp))/emittance_x\n",
    "    beta_x = np.average(x**2)/emittance_x\n",
    "    gamma_x = np.average(xp**2)/emittance_x\n",
    "    \n",
    "    emittance_y = np.sqrt(np.average(y**2)*np.average(yp**2)-np.average(np.multiply(y, yp))**2)\n",
    "    alpha_y = -np.average(np.multiply(y, yp))/emittance_y\n",
    "    beta_y = np.average(y**2)/emittance_y\n",
    "    gamma_y = np.average(yp**2)/emittance_y\n",
    "    \n",
    "    return emittance_x, alpha_x, beta_x, gamma_x, emittance_y, alpha_y, beta_y, gamma_y"
   ]
  },
  {
   "cell_type": "markdown",
   "metadata": {},
   "source": [
    "## Flip the input beam and analyze the temporal distribution along s\n",
    "\n",
    "One subtle difference between the beam profile in ELEGANT and in GENESIS 4 is where the head of the bunch is. In ELEGANT, the head of the beam is on the left-hand-side. Whereas in GENESIS 4, the head of the beam is on the right-hand-side. In order to make sure that we are comparing apple to apple, we need to flip the beam and convert the information from time (t) to the longitudinal length along the bunch(s).\n",
    "\n",
    "At the same time, we also want to do put particlles into slices along s. The built-in function np.hist in Python is already good enough to do this job."
   ]
  },
  {
   "cell_type": "code",
   "execution_count": 14,
   "metadata": {},
   "outputs": [],
   "source": [
    "def flip_slice(t):\n",
    "    \"\"\"We use this function to flip the bunch in s and convert the information from\n",
    "    time (t) to the longitudinal length along the bunch(s).\n",
    "    Input:\n",
    "    t: An array which has the length N. N is the number of particles.\n",
    "    Output:\n",
    "    id_slices: A list of length N_bin, where N_bin is the number of mesh grids in\n",
    "    the histogram. The list id_slices[i-1] contains the indices of partciles in the\n",
    "    i-th mesh grid in s.\n",
    "    zplot: A array of length N_bin. It is the array of bin edges in s.\"\"\"\n",
    "\n",
    "    s = constants.c*np.ravel((np.max(t)-t)) # Flip s\n",
    "    s_sort_index = np.argsort(s) # Ascending order.\n",
    "    \n",
    "    bins = 200\n",
    "    plt.clf()\n",
    "    hist, zplot, patches = plt.hist(s, bins)\n",
    "    \n",
    "    id_slices = []\n",
    "    for n in range(0, bins):\n",
    "        num_begin = int(np.sum(hist[0:n]))\n",
    "        num_end = int(np.sum(hist[0:n+1]))\n",
    "        id_slices.append(s_sort_index[num_begin:num_end])\n",
    "        \n",
    "    return id_slices, zplot\n",
    "    "
   ]
  },
  {
   "cell_type": "markdown",
   "metadata": {},
   "source": [
    "## Analyze the beam property along s"
   ]
  },
  {
   "cell_type": "code",
   "execution_count": 15,
   "metadata": {},
   "outputs": [],
   "source": [
    "def beam_property_along_s(ps, id_slices):\n",
    "    \"\"\"We use this function to analyze the beam property along s.\n",
    "    Input:\n",
    "    ps: A 4-by-N array. N is the number of macro-particles.\n",
    "    id_slices: A list of length N_bin, where N_bin is the number of mesh grids in\n",
    "    the histogram. The list id_slices[i-1] contains the indices of partciles in the\n",
    "    i-th mesh grid in s.\n",
    "    Output:\n",
    "    prop_s: A 14-by-N_bin array. For each column, elements are: average of x, px, y, py, x_RMS\n",
    "    y_RMS, and emittance_x, alpha_x, beta_x, gamma_x, emittance_y, alpha_y, beta_y, gamma_y.\"\"\"\n",
    "    \n",
    "    prop_s = np.zeros((14, len(id_slices)))\n",
    "    for n in range(len(id_slices)):\n",
    "        ps_s = np.take(ps, id_slices[n], axis=1)\n",
    "        prop_s[0, n] = np.average(ps_s[0,:])\n",
    "        prop_s[1, n] = np.average(ps_s[1,:])\n",
    "        prop_s[2, n] = np.average(ps_s[2,:])\n",
    "        prop_s[3, n] = np.average(ps_s[3,:])\n",
    "        prop_s[4, n] = np.std(ps_s[0,:])\n",
    "        prop_s[5, n] = np.std(ps_s[2,:])\n",
    "        prop_s[6:, n] = emittance_and_twiss(ps_s)\n",
    "    \n",
    "    return prop_s\n",
    "        "
   ]
  },
  {
   "cell_type": "markdown",
   "metadata": {},
   "source": [
    "## Initialize all the components"
   ]
  },
  {
   "cell_type": "code",
   "execution_count": 16,
   "metadata": {},
   "outputs": [],
   "source": [
    "### QUAD ###\n",
    "QUAD01=Quadrupole(0.078,-1.919451488669702e+00)\n",
    "QUAD02=Quadrupole(0.078,+1.919451488669702e+00)\n",
    "QUAD03=Quadrupole(0.078,-1.919451488669702e+00)\n",
    "QUAD04=Quadrupole(0.078,+1.919451488669702e+00)\n",
    "QUAD05=Quadrupole(0.078,-1.919451488669702e+00)\n",
    "QUAD06=Quadrupole(0.078,+1.919451488669702e+00)\n",
    "QUAD07=Quadrupole(0.078,-1.919451488669702e+00)\n",
    "QUAD08=Quadrupole(0.078,+1.919451488669702e+00)\n",
    "QUAD09=Quadrupole(0.078,-1.919451488669702e+00)\n",
    "QUAD10=Quadrupole(0.078,+1.919451488669702e+00)\n",
    "QUAD11=Quadrupole(0.078,-1.919451488669702e+00)\n",
    "QUAD12=Quadrupole(0.078,+1.919451488669702e+00)\n",
    "QUAD13=Quadrupole(0.078,-1.919451488669702e+00)\n",
    "QUAD14=Quadrupole(0.078,+1.919451488669702e+00)\n",
    "QUAD15=Quadrupole(0.078,-1.919451488669702e+00)\n",
    "QUAD16=Quadrupole(0.078,+1.919451488669702e+00)\n",
    "QUAD17=Quadrupole(0.078,-1.919451488669702e+00)\n",
    "QUAD18=Quadrupole(0.078,+1.919451488669702e+00)\n",
    "QUAD19=Quadrupole(0.078,-1.919451488669702e+00)\n",
    "QUAD20=Quadrupole(0.078,+1.919451488669702e+00)\n",
    "QUAD21=Quadrupole(0.078,-1.919451488669702e+00)\n",
    "QUAD22=Quadrupole(0.078,+1.919451488669702e+00)\n",
    "QUAD23=Quadrupole(0.078,-1.919451488669702e+00)\n",
    "QUAD24=Quadrupole(0.078,+1.919451488669702e+00)"
   ]
  },
  {
   "cell_type": "code",
   "execution_count": 17,
   "metadata": {},
   "outputs": [],
   "source": [
    "### Drift ###\n",
    "D1 = Drift( 0.261 )\n",
    "D2 = Drift( 0.411 )\n",
    "\n",
    "## In the first-order approximation, I will also treat those undulators as a drift.\n",
    "\n",
    "UND01 = Drift( 0.03*110 )\n",
    "UND02 = Drift( 0.03*110 )\n",
    "UND03 = Drift( 0.03*110 )\n",
    "UND04 = Drift( 0.03*110 )\n",
    "UND05 = Drift( 0.03*110 )\n",
    "UND06 = Drift( 0.03*110 )\n",
    "UND07 = Drift( 0.03*110 )\n",
    "UND08 = Drift( 0.03*110 )\n",
    "UND09 = Drift( 0.03*110 )\n",
    "UND10 = Drift( 0.03*110 )\n",
    "UND11 = Drift( 0.03*110 )\n",
    "UND12 = Drift( 0.03*110 )\n",
    "UND13 = Drift( 0.03*110 )\n",
    "UND14 = Drift( 0.03*110 )\n",
    "UND15 = Drift( 0.03*110 )\n",
    "UND16 = Drift( 0.03*110 )\n",
    "UND17 = Drift( 0.03*110 )\n",
    "UND18 = Drift( 0.03*110 )\n",
    "UND19 = Drift( 0.03*110 )\n",
    "UND20 = Drift( 0.03*110 )\n",
    "UND21 = Drift( 0.03*110 )\n",
    "UND22 = Drift( 0.03*110 )\n",
    "UND23 = Drift( 0.03*110 )\n",
    "UND24 = Drift( 0.03*110 )"
   ]
  },
  {
   "cell_type": "code",
   "execution_count": 18,
   "metadata": {},
   "outputs": [],
   "source": [
    "### Orbit Corrector ### \n",
    "CORR00 = Orbit_Corrector( 0.001, 0e-6, -75e-6)\n",
    "CORR01 = Orbit_Corrector( 0.411, 0, 0)\n",
    "CORR02 = Orbit_Corrector( 0.411, 0, 0)\n",
    "CORR03 = Orbit_Corrector( 0.411, 0, 0)\n",
    "CORR04 = Orbit_Corrector( 0.411, 0, 0)\n",
    "CORR05 = Orbit_Corrector( 0.411, 0, 0)\n",
    "CORR06 = Orbit_Corrector( 0.411, 0, 0)\n",
    "CORR07 = Orbit_Corrector( 0.411, 0, 0)\n",
    "\n",
    "CORR08 = Orbit_Corrector( 0.411, -5e-6, -6e-5)\n",
    "CORR09 = Orbit_Corrector( 0.411, 0, 2.2e-5);\n",
    "CORR10 = Orbit_Corrector( 0.411, 0, 0)\n",
    "CORR11 = Orbit_Corrector( 0.411, 0, 0)\n",
    "CORR12 = Orbit_Corrector( 0.411, 0, 0)\n",
    "CORR13 = Orbit_Corrector( 0.411, 0, 0)\n",
    "CORR14 = Orbit_Corrector( 0.411, 0, 0)\n",
    "    \n",
    "CORR15 = Orbit_Corrector( 0.411, 0, 2.5e-5);\n",
    "CORR16 = Orbit_Corrector( 0.411, 0, 1e-5);\n",
    "CORR17 = Orbit_Corrector( 0.411, 0, 0)\n",
    "CORR18 = Orbit_Corrector( 0.411, 0, 0)\n",
    "CORR19 = Orbit_Corrector( 0.411, 0, 0)\n",
    "CORR20 = Orbit_Corrector( 0.411, 0, 0)\n",
    "CORR21 = Orbit_Corrector( 0.411, 0, 0)\n",
    "CORR22 = Orbit_Corrector( 0.411, 0, 0)\n",
    "CORR23 = Orbit_Corrector( 0.411, 0, 0)\n",
    "CORR24 = Orbit_Corrector( 0.411, 0, 0)"
   ]
  },
  {
   "cell_type": "code",
   "execution_count": 19,
   "metadata": {},
   "outputs": [],
   "source": [
    "### Chicane ### \n",
    "SXSS = Chicane( 3, 0.1, 0.0, 2.75e-06)\n",
    "\n",
    "HXSS = Chicane( 3, 0.1, 0.0, 6e-06)"
   ]
  },
  {
   "cell_type": "markdown",
   "metadata": {},
   "source": [
    "## Construct the undulator line"
   ]
  },
  {
   "cell_type": "code",
   "execution_count": 32,
   "metadata": {},
   "outputs": [],
   "source": [
    "U1 = [ CORR00,\n",
    "UND01, D1, QUAD01, CORR01,\n",
    "UND02, D1, QUAD02, CORR02,\n",
    "UND03, D2, QUAD03, CORR03,\n",
    "UND04, D1, QUAD04, CORR04,\n",
    "UND05, D1, QUAD05, CORR05,\n",
    "UND06, D2, QUAD06, CORR06,\n",
    "UND07, D1, QUAD07, CORR07,\n",
    "UND08, D1, QUAD08, CORR08]\n",
    "\n",
    "U3 =  [CORR00,\n",
    "UND01, D1, QUAD01, CORR01,\n",
    "UND02, D1, QUAD02, CORR02,\n",
    "UND03, D2, QUAD03, CORR03,\n",
    "UND04, D1, QUAD04, CORR04,\n",
    "UND05, D1, QUAD05, CORR05,\n",
    "UND06, D2, QUAD06, CORR06,\n",
    "UND07, D1, QUAD07, CORR07,\n",
    "UND08, D1, QUAD08, CORR08,\n",
    " SXSS, D2, QUAD09, CORR09,\n",
    "UND10, D1, QUAD10, CORR10,\n",
    "UND11, D1, QUAD11, CORR11,\n",
    "UND12, D2, QUAD12, CORR12,\n",
    "UND13, D1, QUAD13, CORR13,\n",
    "UND14, D1, QUAD14, CORR14,\n",
    "UND15, D2, QUAD15, CORR15,\n",
    " HXSS, D1, QUAD16, CORR16,\n",
    "UND17, D1, QUAD17, CORR17,\n",
    "UND18, D2, QUAD18, CORR18,\n",
    "UND19, D1, QUAD19, CORR19,\n",
    "UND20, D1, QUAD20, CORR20,\n",
    "UND21, D2, QUAD21, CORR21,\n",
    "UND22, D1, QUAD22, CORR22,\n",
    "UND23, D1, QUAD23, CORR23,\n",
    "UND24, D2, QUAD24, CORR24]"
   ]
  },
  {
   "cell_type": "markdown",
   "metadata": {},
   "source": [
    "## Initialize the beam profile"
   ]
  },
  {
   "cell_type": "code",
   "execution_count": 33,
   "metadata": {},
   "outputs": [
    {
     "data": {
      "text/plain": [
       "['Charge',\n",
       " 'IDSlotsPerBunch',\n",
       " 'Particles',\n",
       " 'SVNVersion',\n",
       " 'Step',\n",
       " 'p',\n",
       " 'pCentral',\n",
       " 'particleID',\n",
       " 't',\n",
       " 'x',\n",
       " 'xp',\n",
       " 'y',\n",
       " 'yp']"
      ]
     },
     "execution_count": 33,
     "metadata": {},
     "output_type": "execute_result"
    }
   ],
   "source": [
    "bunch = h5py.File('LTU.bun', 'r')\n",
    "list(bunch.keys())"
   ]
  },
  {
   "cell_type": "code",
   "execution_count": 80,
   "metadata": {},
   "outputs": [],
   "source": [
    "# init_ps = [[bunch[\"x\"]], [bunch[\"xp\"]], [bunch[\"y\"]], [bunch[\"yp\"]]]\n",
    "num = len(bunch[\"x\"])\n",
    "init_ps = np.zeros((4, num))\n",
    "init_ps[0,:] = bunch[\"x\"]\n",
    "init_ps[1,:] = bunch[\"xp\"]\n",
    "init_ps[2,:] = bunch[\"y\"]\n",
    "init_ps[3,:] = bunch[\"yp\"]"
   ]
  },
  {
   "cell_type": "code",
   "execution_count": 81,
   "metadata": {},
   "outputs": [],
   "source": [
    "beamline = [CORR00]\n",
    "\n",
    "ps_end = beam_transportation(init_ps, U3)"
   ]
  },
  {
   "cell_type": "code",
   "execution_count": 36,
   "metadata": {},
   "outputs": [
    {
     "data": {
      "image/png": "[encoded data removed]",
      "text/plain": [
       "<Figure size 432x288 with 1 Axes>"
      ]
     },
     "metadata": {
      "needs_background": "light"
     },
     "output_type": "display_data"
    }
   ],
   "source": [
    "[id_slices, zplot] = flip_slice(bunch[\"t\"])"
   ]
  },
  {
   "cell_type": "code",
   "execution_count": 82,
   "metadata": {},
   "outputs": [],
   "source": [
    "ps_beg_s = beam_property_along_s(init_ps, id_slices)\n",
    "ps_end_s = beam_property_along_s(ps_end, id_slices)"
   ]
  },
  {
   "cell_type": "code",
   "execution_count": 85,
   "metadata": {},
   "outputs": [
    {
     "data": {
      "text/plain": [
       "[<matplotlib.lines.Line2D at 0x128428048>]"
      ]
     },
     "execution_count": 85,
     "metadata": {},
     "output_type": "execute_result"
    },
    {
     "data": {
      "image/png": "[encoded data removed]",
      "text/plain": [
       "<Figure size 432x288 with 1 Axes>"
      ]
     },
     "metadata": {
      "needs_background": "light"
     },
     "output_type": "display_data"
    }
   ],
   "source": [
    "plt.plot(ps_beg_s[3,:])\n",
    "plt.plot(ps_end_s[3,:])"
   ]
  },
  {
   "cell_type": "code",
   "execution_count": 79,
   "metadata": {},
   "outputs": [
    {
     "data": {
      "text/plain": [
       "array([-1.80539382e-06,  0.00000000e+00, -7.86481020e-06,  0.00000000e+00])"
      ]
     },
     "execution_count": 79,
     "metadata": {},
     "output_type": "execute_result"
    }
   ],
   "source": [
    "# plt.hist2d(np.ravel(np.max(bunch[\"t\"])-bunch[\"t\"]), np.ravel(bunch[\"xp\"]), 200)\n",
    "init_ps[:,0]-ps_end[:,0]"
   ]
  },
  {
   "cell_type": "code",
   "execution_count": 89,
   "metadata": {},
   "outputs": [
    {
     "data": {
      "text/plain": [
       "(4, 723422)"
      ]
     },
     "execution_count": 89,
     "metadata": {},
     "output_type": "execute_result"
    }
   ],
   "source": [
    "np.shape(init_ps)"
   ]
  },
  {
   "cell_type": "code",
   "execution_count": 91,
   "metadata": {},
   "outputs": [],
   "source": [
    "test_ps = init_ps+CORR00.M2"
   ]
  },
  {
   "cell_type": "code",
   "execution_count": 94,
   "metadata": {},
   "outputs": [
    {
     "data": {
      "text/plain": [
       "array([-1.34328018e-04,  7.40244783e-06, -1.45370719e-04, -5.53502146e-05])"
      ]
     },
     "execution_count": 94,
     "metadata": {},
     "output_type": "execute_result"
    }
   ],
   "source": [
    "test_ps[:,1]"
   ]
  },
  {
   "cell_type": "code",
   "execution_count": 95,
   "metadata": {},
   "outputs": [
    {
     "data": {
      "text/plain": [
       "array([-1.34328018e-04,  7.40244783e-06, -1.45333219e-04,  1.96497854e-05])"
      ]
     },
     "execution_count": 95,
     "metadata": {},
     "output_type": "execute_result"
    }
   ],
   "source": [
    "init_ps[:,1]"
   ]
  },
  {
   "cell_type": "code",
   "execution_count": null,
   "metadata": {},
   "outputs": [],
   "source": []
  }
 ],
 "metadata": {
  "kernelspec": {
   "display_name": "Python 3",
   "language": "python",
   "name": "python3"
  },
  "language_info": {
   "codemirror_mode": {
    "name": "ipython",
    "version": 3
   },
   "file_extension": ".py",
   "mimetype": "text/x-python",
   "name": "python",
   "nbconvert_exporter": "python",
   "pygments_lexer": "ipython3",
   "version": "3.6.6"
  }
 },
 "nbformat": 4,
 "nbformat_minor": 2
}
